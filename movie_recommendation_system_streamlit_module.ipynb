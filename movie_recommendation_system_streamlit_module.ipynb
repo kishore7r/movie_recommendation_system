{
 "cells": [
  {
   "cell_type": "code",
   "execution_count": null,
   "metadata": {
    "id": "8rYavSySczFB"
   },
   "outputs": [],
   "source": [
    "import streamlit as st\n",
    "import pickle\n",
    "import pandas as pd\n",
    "\n",
    "def recommend(movie):\n",
    "  movie_index=movies[movies['title']==movie].index[0]\n",
    "  distances=similarity[movie_index]\n",
    "  movie_list=sorted(list(enumerate(distances)),reverse=True, key=lambda x:x[1])[1:6]\n",
    "\n",
    "  recommended_movies=[]\n",
    "\n",
    "  for i in movie_list:\n",
    "    recommended_movies.append(movies.iloc[i[0]].title)\n",
    "\n",
    "movies_dict = pickle.load(open('movies_dict.pkl','rb'))\n",
    "movies = pd.DataFrame(movies_dict)\n",
    "\n",
    "similarity = pickle.load(open('similarity.pkl','rb'))\n",
    "\n",
    "st.title('Movie Recommender System')\n",
    "\n",
    "option = st.selectbox('Select your Movie:', movies['title'].values)\n",
    "\n",
    "if st.button('Recommend'):\n",
    "    recommendations = recommend(option)\n",
    "    for i in recommendations:\n",
    "        st.write(i)    "
   ]
  },
  {
   "cell_type": "code",
   "execution_count": null,
   "metadata": {},
   "outputs": [],
   "source": []
  }
 ],
 "metadata": {
  "colab": {
   "collapsed_sections": [],
   "provenance": []
  },
  "kernelspec": {
   "display_name": "Python 3 (ipykernel)",
   "language": "python",
   "name": "python3"
  },
  "language_info": {
   "codemirror_mode": {
    "name": "ipython",
    "version": 3
   },
   "file_extension": ".py",
   "mimetype": "text/x-python",
   "name": "python",
   "nbconvert_exporter": "python",
   "pygments_lexer": "ipython3",
   "version": "3.9.7"
  }
 },
 "nbformat": 4,
 "nbformat_minor": 1
}
